{
 "cells": [
  {
   "cell_type": "markdown",
   "id": "d3bfc191-8885-42ee-b0a0-bbab867c6f9f",
   "metadata": {
    "tags": []
   },
   "source": [
    "# Lab | Flow Control"
   ]
  },
  {
   "cell_type": "markdown",
   "id": "3851fcd1-cf98-4653-9c89-e003b7ec9400",
   "metadata": {},
   "source": [
    "## Exercise: Managing Customer Orders Optimized\n",
    "\n",
    "In the last lab, you were starting an online store that sells various products. To ensure smooth operations, you developed a program that manages customer orders and inventory.\n",
    "\n",
    "You did so without using flow control. Let's go a step further and improve this code.\n",
    "\n",
    "Follow the steps below to complete the exercise:\n",
    "\n",
    "1. Look at your code from the lab data structures, and improve repeated code with loops.\n",
    "\n",
    "2. Instead of asking the user to input the name of three products that a customer wants to order, do the following:\n",
    "    \n",
    "    a. Prompt the user to enter the name of a product that a customer wants to order.\n",
    "    \n",
    "    b. Add the product name to the \"customer_orders\" set.\n",
    "    \n",
    "    c. Ask the user if they want to add another product (yes/no).\n",
    "    \n",
    "    d. Continue the loop until the user does not want to add another product.\n",
    "\n",
    "3. Instead of updating the inventory by subtracting 1 from the quantity of each product, only do it for  the products that were ordered (those in \"customer_orders\")."
   ]
  },
  {
   "cell_type": "code",
   "execution_count": 5,
   "id": "73e0e5e7",
   "metadata": {},
   "outputs": [
    {
     "name": "stdout",
     "output_type": "stream",
     "text": [
      "Please choose an item from the product list: mug\n",
      "Do you want to order more products? (Yes/no): yes\n",
      "Please choose an item from the product list: book\n",
      "Do you want to order more products? (Yes/no): no\n",
      "Your final order contains: {'book', 'mug'}\n",
      "{'t-shirts': 5, 'mug': 4, 'book': 4, 'hat': 5, 'keychain': 5}\n"
     ]
    }
   ],
   "source": [
    "products = [\"t-shirts\", \"mug\", \"hat\", \"book\", \"keychain\"]\n",
    "\n",
    "inventory = {}\n",
    "\n",
    "customer_orders = set()\n",
    "ordered_items = []\n",
    "while True:\n",
    "    item_of_choice = input(\"Please choose an item from the product list: \")\n",
    "    if item_of_choice in products:\n",
    "        customer_orders.add(item_of_choice)\n",
    "    else:\n",
    "        print(\"Invalid choice. Please choose from the product list.\")\n",
    "        continue\n",
    "    \n",
    "    more_items = input(\"Do you want to order more products? (Yes/no): \").lower()\n",
    "    if more_items == \"no\":\n",
    "        break\n",
    "\n",
    "print(\"Your final order contains:\", customer_orders)\n",
    "\n",
    "# updating inventory to contain 5 items each\n",
    "updated_inventory = {\"t-shirts\": 5,\n",
    "                     \"mug\":5,\n",
    "                     \"book\":5,\n",
    "                     \"hat\":5,\n",
    "                     \"keychain\":5}\n",
    "inventory = updated_inventory\n",
    "\n",
    "for products in customer_orders:\n",
    "    if products in updated_inventory:\n",
    "        updated_inventory[products] -= 1\n",
    "print(updated_inventory)\n",
    "\n",
    "\n"
   ]
  },
  {
   "cell_type": "code",
   "execution_count": null,
   "id": "db692444",
   "metadata": {},
   "outputs": [],
   "source": [
    "print(inventory)\n",
    "print(customer_orders)\n"
   ]
  },
  {
   "cell_type": "code",
   "execution_count": null,
   "id": "f9dbb0bf",
   "metadata": {},
   "outputs": [],
   "source": []
  },
  {
   "cell_type": "code",
   "execution_count": null,
   "id": "bf1370f2",
   "metadata": {},
   "outputs": [],
   "source": []
  }
 ],
 "metadata": {
  "kernelspec": {
   "display_name": "Python 3 (ipykernel)",
   "language": "python",
   "name": "python3"
  },
  "language_info": {
   "codemirror_mode": {
    "name": "ipython",
    "version": 3
   },
   "file_extension": ".py",
   "mimetype": "text/x-python",
   "name": "python",
   "nbconvert_exporter": "python",
   "pygments_lexer": "ipython3",
   "version": "3.11.5"
  }
 },
 "nbformat": 4,
 "nbformat_minor": 5
}
